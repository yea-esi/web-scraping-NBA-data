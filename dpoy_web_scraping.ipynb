{
 "cells": [
  {
   "cell_type": "code",
   "execution_count": 2,
   "metadata": {
    "id": "iafo9EL3a_sI"
   },
   "outputs": [],
   "source": [
    "#Import libraries and dependencies\n",
    "\n",
    "import requests\n",
    "import os\n",
    "from bs4 import BeautifulSoup\n",
    "import pandas as pd"
   ]
  },
  {
   "cell_type": "code",
   "execution_count": 3,
   "metadata": {
    "id": "_Zhav-twdSfz"
   },
   "outputs": [],
   "source": [
    "# Send an HTTP GET request\n",
    "# Save html files to local machine to avoid multiple page requests\n",
    "\n",
    "url_initial = \"https://www.basketball-reference.com/awards/awards_{}.html\"\n",
    "\n",
    "years = list(range(1991,2025))\n",
    "\n",
    "for year in years :\n",
    "  url = url_initial.format(year)\n",
    "  data = requests.get(url)\n",
    "\n",
    "  with open(\"dpoy/{}.html\".format(year), \"w+\", encoding=\"utf-8\") as f:\n",
    "    f.write(data.text)\n"
   ]
  },
  {
   "cell_type": "code",
   "execution_count": 4,
   "metadata": {
    "collapsed": true,
    "id": "5WuJdtZNdUXD",
    "jupyter": {
     "outputs_hidden": true
    },
    "scrolled": true
   },
   "outputs": [
    {
     "name": "stdout",
     "output_type": "stream",
     "text": [
      "Response Status Code: 403\n",
      "Response Content:\n",
      "<!DOCTYPE html><html lang=\"en-US\"><head><title>Just a moment...</title><meta http-equiv=\"Content-Type\" content=\"text/html; charset=UTF-8\"><meta http-equiv=\"X-UA-Compatible\" content=\"IE=Edge\"><meta name=\"robots\" content=\"noindex,nofollow\"><meta name=\"viewport\" content=\"width=device-width,initial-scale=1\"><style>*{box-sizing:border-box;margin:0;padding:0}html{line-height:1.15;-webkit-text-size-adjust:100%;color:#313131;font-family:system-ui,-apple-system,BlinkMacSystemFont,\"Segoe UI\",Roboto,\"Helve\n"
     ]
    }
   ],
   "source": [
    "\n",
    "# Check the response status code\n",
    "print(\"Response Status Code:\", data.status_code)\n",
    "\n",
    "# Print the first 500 characters of the response content\n",
    "print(\"Response Content:\")\n",
    "print(data.text[:500])"
   ]
  },
  {
   "cell_type": "code",
   "execution_count": null,
   "metadata": {
    "id": "K0gxvCsToC9w"
   },
   "outputs": [],
   "source": [
    "# Create a BeautifulSoup object\n",
    "# Parse the HTML content\n",
    "\n",
    "soup = BeautifulSoup(page, \"html.parser\")\n",
    "print(soup.prettify())\n",
    "\n",
    "for year in years :\n",
    "    with open(\"dpoy/{}.html\".format(year)) as f :\n",
    "        page = f.read()\n",
    "\n",
    "    #Eliminate unnecesary header from specific table\n",
    "    soup.find('tr', class_=\"over_header\")\n",
    "    \n",
    "  #Select specific table from website\n",
    "    dpoy_table = soup.find(id=\"all_dpoy\")\n",
    "    dpoy = pd.read_html(str(dpoy_table))[0]\n",
    "    dpoy[\"Year\"] = year\n",
    "    dpoy.to_csv(\"dpoy/{}.csv\".format(year), index=False)"
   ]
  },
  {
   "cell_type": "code",
   "execution_count": null,
   "metadata": {
    "id": "hK_UPn5GoC3j"
   },
   "outputs": [],
   "source": []
  },
  {
   "cell_type": "markdown",
   "metadata": {
    "id": "y-Oa0orBn7LD"
   },
   "source": []
  }
 ],
 "metadata": {
  "colab": {
   "provenance": []
  },
  "kernelspec": {
   "display_name": "Python 3 (ipykernel)",
   "language": "python",
   "name": "python3"
  },
  "language_info": {
   "codemirror_mode": {
    "name": "ipython",
    "version": 3
   },
   "file_extension": ".py",
   "mimetype": "text/x-python",
   "name": "python",
   "nbconvert_exporter": "python",
   "pygments_lexer": "ipython3",
   "version": "3.13.5"
  }
 },
 "nbformat": 4,
 "nbformat_minor": 4
}
